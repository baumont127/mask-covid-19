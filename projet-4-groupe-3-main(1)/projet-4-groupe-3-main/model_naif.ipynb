{
 "cells": [
  {
   "cell_type": "code",
   "execution_count": 1,
   "id": "cb5c4081",
   "metadata": {},
   "outputs": [],
   "source": [
    "import numpy as np\n",
    "import zipfile\n",
    "import pandas as pd\n",
    "import os\n",
    "from PIL import Image"
   ]
  },
  {
   "cell_type": "code",
   "execution_count": 3,
   "id": "2d047181",
   "metadata": {},
   "outputs": [
    {
     "data": {
      "text/plain": [
       "\"np_df = df.drop(['label', 'row_sum'], axis = 1).to_numpy()\""
      ]
     },
     "execution_count": 3,
     "metadata": {},
     "output_type": "execute_result"
    }
   ],
   "source": [
    "\"\"\"np_df = df.drop(['label', 'row_sum'], axis = 1).to_numpy()\"\"\""
   ]
  },
  {
   "cell_type": "code",
   "execution_count": 4,
   "id": "6dc3cbb1",
   "metadata": {},
   "outputs": [],
   "source": [
    "dictionary = {'paths_no_mask':[], 'path_img_masque': []}\n",
    "mask = []\n",
    "no_mask = []\n",
    "\n",
    "files_no_mask = os.listdir('/home/simplon/datascript/projet-4-groupe-3/no mask/')\n",
    "files_mask = os.listdir('/home/simplon/datascript/projet-4-groupe-3/mask pics/')\n",
    "\n",
    "i = 0\n",
    "\n",
    "for name in files_no_mask:\n",
    "    i += 1\n",
    "    dictionary['paths_no_mask'].append('/home/simplon/datascript/projet-4-groupe-3/no mask/' + name)\n",
    "    img = Image.open(f'/home/simplon/datascript/projet-4-groupe-3/no mask/{name}').convert(\"L\")\n",
    "    pix = np.reshape(np.array(img, dtype='uint16'),(224*224))\n",
    "    no_mask.append(pix)\n",
    "    \n",
    "for name in files_mask:\n",
    "    i += 1\n",
    "    dictionary['path_img_masque'].append('/home/simplon/datascript/projet-4-groupe-3/mask pics/' + name)\n",
    "    img = Image.open(f'/home/simplon/datascript/projet-4-groupe-3/mask pics/{name}').convert(\"L\")\n",
    "    pix =  np.reshape(np.array(img, dtype='uint16'),(224*224))\n",
    "    mask.append(pix)\n"
   ]
  },
  {
   "cell_type": "code",
   "execution_count": 5,
   "id": "3c9cdd82",
   "metadata": {},
   "outputs": [],
   "source": [
    "df1 = pd.DataFrame.from_dict(dictionary.get('paths_no_mask'))\n",
    "df2 = pd.DataFrame.from_dict(dictionary.get('path_img_masque'))"
   ]
  },
  {
   "cell_type": "code",
   "execution_count": 6,
   "id": "e70b13fd",
   "metadata": {},
   "outputs": [],
   "source": [
    "df1['values'] = 0\n",
    "df2['values'] = 1"
   ]
  },
  {
   "cell_type": "code",
   "execution_count": 7,
   "id": "e077bd65",
   "metadata": {},
   "outputs": [],
   "source": [
    "df = pd.concat([df1, df2])"
   ]
  },
  {
   "cell_type": "code",
   "execution_count": 8,
   "id": "0fd26947",
   "metadata": {},
   "outputs": [],
   "source": [
    "df = df.rename(columns={0: 'image path'})"
   ]
  },
  {
   "cell_type": "code",
   "execution_count": 9,
   "id": "ac933d22",
   "metadata": {},
   "outputs": [
    {
     "data": {
      "text/plain": [
       "0    310\n",
       "1    310\n",
       "Name: values, dtype: int64"
      ]
     },
     "execution_count": 9,
     "metadata": {},
     "output_type": "execute_result"
    }
   ],
   "source": [
    "df['values'].value_counts()"
   ]
  },
  {
   "cell_type": "code",
   "execution_count": 10,
   "id": "7f79b9cb",
   "metadata": {},
   "outputs": [
    {
     "data": {
      "text/html": [
       "<div>\n",
       "<style scoped>\n",
       "    .dataframe tbody tr th:only-of-type {\n",
       "        vertical-align: middle;\n",
       "    }\n",
       "\n",
       "    .dataframe tbody tr th {\n",
       "        vertical-align: top;\n",
       "    }\n",
       "\n",
       "    .dataframe thead th {\n",
       "        text-align: right;\n",
       "    }\n",
       "</style>\n",
       "<table border=\"1\" class=\"dataframe\">\n",
       "  <thead>\n",
       "    <tr style=\"text-align: right;\">\n",
       "      <th></th>\n",
       "      <th>image path</th>\n",
       "      <th>values</th>\n",
       "    </tr>\n",
       "  </thead>\n",
       "  <tbody>\n",
       "    <tr>\n",
       "      <th>0</th>\n",
       "      <td>/home/simplon/datascript/projet-4-groupe-3/no mask/22.jpg</td>\n",
       "      <td>0</td>\n",
       "    </tr>\n",
       "    <tr>\n",
       "      <th>1</th>\n",
       "      <td>/home/simplon/datascript/projet-4-groupe-3/no mask/55.jpg</td>\n",
       "      <td>0</td>\n",
       "    </tr>\n",
       "    <tr>\n",
       "      <th>2</th>\n",
       "      <td>/home/simplon/datascript/projet-4-groupe-3/no mask/106.jpg</td>\n",
       "      <td>0</td>\n",
       "    </tr>\n",
       "    <tr>\n",
       "      <th>3</th>\n",
       "      <td>/home/simplon/datascript/projet-4-groupe-3/no mask/251.jpg</td>\n",
       "      <td>0</td>\n",
       "    </tr>\n",
       "    <tr>\n",
       "      <th>4</th>\n",
       "      <td>/home/simplon/datascript/projet-4-groupe-3/no mask/165.jpg</td>\n",
       "      <td>0</td>\n",
       "    </tr>\n",
       "    <tr>\n",
       "      <th>...</th>\n",
       "      <td>...</td>\n",
       "      <td>...</td>\n",
       "    </tr>\n",
       "    <tr>\n",
       "      <th>305</th>\n",
       "      <td>/home/simplon/datascript/projet-4-groupe-3/mask pics/133.jpg</td>\n",
       "      <td>1</td>\n",
       "    </tr>\n",
       "    <tr>\n",
       "      <th>306</th>\n",
       "      <td>/home/simplon/datascript/projet-4-groupe-3/mask pics/176.jpg</td>\n",
       "      <td>1</td>\n",
       "    </tr>\n",
       "    <tr>\n",
       "      <th>307</th>\n",
       "      <td>/home/simplon/datascript/projet-4-groupe-3/mask pics/39.jpg</td>\n",
       "      <td>1</td>\n",
       "    </tr>\n",
       "    <tr>\n",
       "      <th>308</th>\n",
       "      <td>/home/simplon/datascript/projet-4-groupe-3/mask pics/233.jpg</td>\n",
       "      <td>1</td>\n",
       "    </tr>\n",
       "    <tr>\n",
       "      <th>309</th>\n",
       "      <td>/home/simplon/datascript/projet-4-groupe-3/mask pics/107.jpg</td>\n",
       "      <td>1</td>\n",
       "    </tr>\n",
       "  </tbody>\n",
       "</table>\n",
       "<p>620 rows × 2 columns</p>\n",
       "</div>"
      ],
      "text/plain": [
       "                                                       image path  values\n",
       "0       /home/simplon/datascript/projet-4-groupe-3/no mask/22.jpg       0\n",
       "1       /home/simplon/datascript/projet-4-groupe-3/no mask/55.jpg       0\n",
       "2      /home/simplon/datascript/projet-4-groupe-3/no mask/106.jpg       0\n",
       "3      /home/simplon/datascript/projet-4-groupe-3/no mask/251.jpg       0\n",
       "4      /home/simplon/datascript/projet-4-groupe-3/no mask/165.jpg       0\n",
       "..                                                            ...     ...\n",
       "305  /home/simplon/datascript/projet-4-groupe-3/mask pics/133.jpg       1\n",
       "306  /home/simplon/datascript/projet-4-groupe-3/mask pics/176.jpg       1\n",
       "307   /home/simplon/datascript/projet-4-groupe-3/mask pics/39.jpg       1\n",
       "308  /home/simplon/datascript/projet-4-groupe-3/mask pics/233.jpg       1\n",
       "309  /home/simplon/datascript/projet-4-groupe-3/mask pics/107.jpg       1\n",
       "\n",
       "[620 rows x 2 columns]"
      ]
     },
     "execution_count": 10,
     "metadata": {},
     "output_type": "execute_result"
    }
   ],
   "source": [
    "pd.set_option('display.max_colwidth', None)\n",
    "df"
   ]
  },
  {
   "cell_type": "code",
   "execution_count": 11,
   "id": "bf3f3bdf",
   "metadata": {},
   "outputs": [],
   "source": [
    "img = Image.open('/home/simplon/datascript/projet-4-groupe-3/mask pics/3.jpg').convert(\"L\")\n",
    "pix = np.array(img)"
   ]
  },
  {
   "cell_type": "code",
   "execution_count": 12,
   "id": "5ff98b38",
   "metadata": {},
   "outputs": [
    {
     "data": {
      "text/plain": [
       "(50176,)"
      ]
     },
     "execution_count": 12,
     "metadata": {},
     "output_type": "execute_result"
    }
   ],
   "source": [
    "mask[0].shape"
   ]
  },
  {
   "cell_type": "code",
   "execution_count": 13,
   "id": "ef3434a7",
   "metadata": {},
   "outputs": [],
   "source": [
    "df_array = pd.DataFrame(no_mask)"
   ]
  },
  {
   "cell_type": "code",
   "execution_count": 14,
   "id": "046d2252",
   "metadata": {},
   "outputs": [
    {
     "data": {
      "text/plain": [
       "'df_array[\"row_sum\"] = 0\\ndf_array[\"row_sum\"] = df.drop([\"row_sum\"], axis = 1).sum(axis=1)'"
      ]
     },
     "execution_count": 14,
     "metadata": {},
     "output_type": "execute_result"
    }
   ],
   "source": [
    "\"\"\"df_array[\"row_sum\"] = 0\n",
    "df_array[\"row_sum\"] = df.drop([\"row_sum\"], axis = 1).sum(axis=1)\"\"\""
   ]
  },
  {
   "cell_type": "code",
   "execution_count": 15,
   "id": "8af2bbc2",
   "metadata": {},
   "outputs": [],
   "source": [
    "df_array['label'] = 0"
   ]
  },
  {
   "cell_type": "code",
   "execution_count": 16,
   "id": "d4d99e69",
   "metadata": {},
   "outputs": [],
   "source": [
    "df_array[\"row_sum\"] = 0\n",
    "df_array[\"row_sum\"] = df_array.drop([\"label\", \"row_sum\"], axis = 1).sum(axis=1)"
   ]
  },
  {
   "cell_type": "code",
   "execution_count": 17,
   "id": "b5f4939f",
   "metadata": {},
   "outputs": [
    {
     "data": {
      "text/html": [
       "<div>\n",
       "<style scoped>\n",
       "    .dataframe tbody tr th:only-of-type {\n",
       "        vertical-align: middle;\n",
       "    }\n",
       "\n",
       "    .dataframe tbody tr th {\n",
       "        vertical-align: top;\n",
       "    }\n",
       "\n",
       "    .dataframe thead th {\n",
       "        text-align: right;\n",
       "    }\n",
       "</style>\n",
       "<table border=\"1\" class=\"dataframe\">\n",
       "  <thead>\n",
       "    <tr style=\"text-align: right;\">\n",
       "      <th></th>\n",
       "      <th>0</th>\n",
       "      <th>1</th>\n",
       "      <th>2</th>\n",
       "      <th>3</th>\n",
       "      <th>4</th>\n",
       "      <th>5</th>\n",
       "      <th>6</th>\n",
       "      <th>7</th>\n",
       "      <th>8</th>\n",
       "      <th>9</th>\n",
       "      <th>...</th>\n",
       "      <th>50168</th>\n",
       "      <th>50169</th>\n",
       "      <th>50170</th>\n",
       "      <th>50171</th>\n",
       "      <th>50172</th>\n",
       "      <th>50173</th>\n",
       "      <th>50174</th>\n",
       "      <th>50175</th>\n",
       "      <th>label</th>\n",
       "      <th>row_sum</th>\n",
       "    </tr>\n",
       "  </thead>\n",
       "  <tbody>\n",
       "    <tr>\n",
       "      <th>0</th>\n",
       "      <td>154</td>\n",
       "      <td>154</td>\n",
       "      <td>155</td>\n",
       "      <td>155</td>\n",
       "      <td>155</td>\n",
       "      <td>155</td>\n",
       "      <td>154</td>\n",
       "      <td>154</td>\n",
       "      <td>154</td>\n",
       "      <td>154</td>\n",
       "      <td>...</td>\n",
       "      <td>41</td>\n",
       "      <td>40</td>\n",
       "      <td>43</td>\n",
       "      <td>44</td>\n",
       "      <td>43</td>\n",
       "      <td>43</td>\n",
       "      <td>45</td>\n",
       "      <td>43</td>\n",
       "      <td>0</td>\n",
       "      <td>6650125</td>\n",
       "    </tr>\n",
       "    <tr>\n",
       "      <th>1</th>\n",
       "      <td>127</td>\n",
       "      <td>127</td>\n",
       "      <td>127</td>\n",
       "      <td>127</td>\n",
       "      <td>127</td>\n",
       "      <td>127</td>\n",
       "      <td>127</td>\n",
       "      <td>127</td>\n",
       "      <td>128</td>\n",
       "      <td>127</td>\n",
       "      <td>...</td>\n",
       "      <td>164</td>\n",
       "      <td>164</td>\n",
       "      <td>164</td>\n",
       "      <td>163</td>\n",
       "      <td>163</td>\n",
       "      <td>163</td>\n",
       "      <td>163</td>\n",
       "      <td>163</td>\n",
       "      <td>0</td>\n",
       "      <td>6917250</td>\n",
       "    </tr>\n",
       "    <tr>\n",
       "      <th>2</th>\n",
       "      <td>129</td>\n",
       "      <td>129</td>\n",
       "      <td>128</td>\n",
       "      <td>128</td>\n",
       "      <td>128</td>\n",
       "      <td>127</td>\n",
       "      <td>127</td>\n",
       "      <td>127</td>\n",
       "      <td>127</td>\n",
       "      <td>128</td>\n",
       "      <td>...</td>\n",
       "      <td>154</td>\n",
       "      <td>155</td>\n",
       "      <td>157</td>\n",
       "      <td>156</td>\n",
       "      <td>154</td>\n",
       "      <td>154</td>\n",
       "      <td>154</td>\n",
       "      <td>156</td>\n",
       "      <td>0</td>\n",
       "      <td>6785072</td>\n",
       "    </tr>\n",
       "    <tr>\n",
       "      <th>3</th>\n",
       "      <td>156</td>\n",
       "      <td>156</td>\n",
       "      <td>157</td>\n",
       "      <td>156</td>\n",
       "      <td>156</td>\n",
       "      <td>155</td>\n",
       "      <td>156</td>\n",
       "      <td>156</td>\n",
       "      <td>157</td>\n",
       "      <td>157</td>\n",
       "      <td>...</td>\n",
       "      <td>193</td>\n",
       "      <td>193</td>\n",
       "      <td>193</td>\n",
       "      <td>192</td>\n",
       "      <td>193</td>\n",
       "      <td>193</td>\n",
       "      <td>194</td>\n",
       "      <td>194</td>\n",
       "      <td>0</td>\n",
       "      <td>7478148</td>\n",
       "    </tr>\n",
       "    <tr>\n",
       "      <th>4</th>\n",
       "      <td>128</td>\n",
       "      <td>129</td>\n",
       "      <td>129</td>\n",
       "      <td>129</td>\n",
       "      <td>129</td>\n",
       "      <td>129</td>\n",
       "      <td>129</td>\n",
       "      <td>128</td>\n",
       "      <td>129</td>\n",
       "      <td>129</td>\n",
       "      <td>...</td>\n",
       "      <td>161</td>\n",
       "      <td>161</td>\n",
       "      <td>161</td>\n",
       "      <td>162</td>\n",
       "      <td>162</td>\n",
       "      <td>162</td>\n",
       "      <td>162</td>\n",
       "      <td>162</td>\n",
       "      <td>0</td>\n",
       "      <td>7229256</td>\n",
       "    </tr>\n",
       "    <tr>\n",
       "      <th>...</th>\n",
       "      <td>...</td>\n",
       "      <td>...</td>\n",
       "      <td>...</td>\n",
       "      <td>...</td>\n",
       "      <td>...</td>\n",
       "      <td>...</td>\n",
       "      <td>...</td>\n",
       "      <td>...</td>\n",
       "      <td>...</td>\n",
       "      <td>...</td>\n",
       "      <td>...</td>\n",
       "      <td>...</td>\n",
       "      <td>...</td>\n",
       "      <td>...</td>\n",
       "      <td>...</td>\n",
       "      <td>...</td>\n",
       "      <td>...</td>\n",
       "      <td>...</td>\n",
       "      <td>...</td>\n",
       "      <td>...</td>\n",
       "      <td>...</td>\n",
       "    </tr>\n",
       "    <tr>\n",
       "      <th>305</th>\n",
       "      <td>153</td>\n",
       "      <td>154</td>\n",
       "      <td>154</td>\n",
       "      <td>154</td>\n",
       "      <td>154</td>\n",
       "      <td>154</td>\n",
       "      <td>153</td>\n",
       "      <td>153</td>\n",
       "      <td>154</td>\n",
       "      <td>154</td>\n",
       "      <td>...</td>\n",
       "      <td>43</td>\n",
       "      <td>46</td>\n",
       "      <td>48</td>\n",
       "      <td>49</td>\n",
       "      <td>51</td>\n",
       "      <td>54</td>\n",
       "      <td>60</td>\n",
       "      <td>65</td>\n",
       "      <td>0</td>\n",
       "      <td>7074492</td>\n",
       "    </tr>\n",
       "    <tr>\n",
       "      <th>306</th>\n",
       "      <td>138</td>\n",
       "      <td>138</td>\n",
       "      <td>138</td>\n",
       "      <td>137</td>\n",
       "      <td>137</td>\n",
       "      <td>136</td>\n",
       "      <td>136</td>\n",
       "      <td>136</td>\n",
       "      <td>136</td>\n",
       "      <td>136</td>\n",
       "      <td>...</td>\n",
       "      <td>168</td>\n",
       "      <td>168</td>\n",
       "      <td>168</td>\n",
       "      <td>168</td>\n",
       "      <td>169</td>\n",
       "      <td>169</td>\n",
       "      <td>169</td>\n",
       "      <td>169</td>\n",
       "      <td>0</td>\n",
       "      <td>7497142</td>\n",
       "    </tr>\n",
       "    <tr>\n",
       "      <th>307</th>\n",
       "      <td>157</td>\n",
       "      <td>157</td>\n",
       "      <td>157</td>\n",
       "      <td>158</td>\n",
       "      <td>158</td>\n",
       "      <td>157</td>\n",
       "      <td>156</td>\n",
       "      <td>156</td>\n",
       "      <td>155</td>\n",
       "      <td>154</td>\n",
       "      <td>...</td>\n",
       "      <td>48</td>\n",
       "      <td>50</td>\n",
       "      <td>49</td>\n",
       "      <td>45</td>\n",
       "      <td>46</td>\n",
       "      <td>54</td>\n",
       "      <td>62</td>\n",
       "      <td>65</td>\n",
       "      <td>0</td>\n",
       "      <td>7131142</td>\n",
       "    </tr>\n",
       "    <tr>\n",
       "      <th>308</th>\n",
       "      <td>142</td>\n",
       "      <td>142</td>\n",
       "      <td>142</td>\n",
       "      <td>142</td>\n",
       "      <td>142</td>\n",
       "      <td>141</td>\n",
       "      <td>141</td>\n",
       "      <td>140</td>\n",
       "      <td>141</td>\n",
       "      <td>141</td>\n",
       "      <td>...</td>\n",
       "      <td>31</td>\n",
       "      <td>32</td>\n",
       "      <td>32</td>\n",
       "      <td>37</td>\n",
       "      <td>39</td>\n",
       "      <td>42</td>\n",
       "      <td>46</td>\n",
       "      <td>41</td>\n",
       "      <td>0</td>\n",
       "      <td>6283432</td>\n",
       "    </tr>\n",
       "    <tr>\n",
       "      <th>309</th>\n",
       "      <td>128</td>\n",
       "      <td>128</td>\n",
       "      <td>128</td>\n",
       "      <td>127</td>\n",
       "      <td>127</td>\n",
       "      <td>128</td>\n",
       "      <td>128</td>\n",
       "      <td>128</td>\n",
       "      <td>128</td>\n",
       "      <td>128</td>\n",
       "      <td>...</td>\n",
       "      <td>156</td>\n",
       "      <td>156</td>\n",
       "      <td>155</td>\n",
       "      <td>155</td>\n",
       "      <td>155</td>\n",
       "      <td>155</td>\n",
       "      <td>155</td>\n",
       "      <td>156</td>\n",
       "      <td>0</td>\n",
       "      <td>6785395</td>\n",
       "    </tr>\n",
       "  </tbody>\n",
       "</table>\n",
       "<p>310 rows × 50178 columns</p>\n",
       "</div>"
      ],
      "text/plain": [
       "       0    1    2    3    4    5    6    7    8    9  ...  50168  50169  \\\n",
       "0    154  154  155  155  155  155  154  154  154  154  ...     41     40   \n",
       "1    127  127  127  127  127  127  127  127  128  127  ...    164    164   \n",
       "2    129  129  128  128  128  127  127  127  127  128  ...    154    155   \n",
       "3    156  156  157  156  156  155  156  156  157  157  ...    193    193   \n",
       "4    128  129  129  129  129  129  129  128  129  129  ...    161    161   \n",
       "..   ...  ...  ...  ...  ...  ...  ...  ...  ...  ...  ...    ...    ...   \n",
       "305  153  154  154  154  154  154  153  153  154  154  ...     43     46   \n",
       "306  138  138  138  137  137  136  136  136  136  136  ...    168    168   \n",
       "307  157  157  157  158  158  157  156  156  155  154  ...     48     50   \n",
       "308  142  142  142  142  142  141  141  140  141  141  ...     31     32   \n",
       "309  128  128  128  127  127  128  128  128  128  128  ...    156    156   \n",
       "\n",
       "     50170  50171  50172  50173  50174  50175  label  row_sum  \n",
       "0       43     44     43     43     45     43      0  6650125  \n",
       "1      164    163    163    163    163    163      0  6917250  \n",
       "2      157    156    154    154    154    156      0  6785072  \n",
       "3      193    192    193    193    194    194      0  7478148  \n",
       "4      161    162    162    162    162    162      0  7229256  \n",
       "..     ...    ...    ...    ...    ...    ...    ...      ...  \n",
       "305     48     49     51     54     60     65      0  7074492  \n",
       "306    168    168    169    169    169    169      0  7497142  \n",
       "307     49     45     46     54     62     65      0  7131142  \n",
       "308     32     37     39     42     46     41      0  6283432  \n",
       "309    155    155    155    155    155    156      0  6785395  \n",
       "\n",
       "[310 rows x 50178 columns]"
      ]
     },
     "execution_count": 17,
     "metadata": {},
     "output_type": "execute_result"
    }
   ],
   "source": [
    "df_array"
   ]
  },
  {
   "cell_type": "code",
   "execution_count": 18,
   "id": "7d6137fe",
   "metadata": {},
   "outputs": [
    {
     "data": {
      "text/plain": [
       "'lst_arrys = [for i in no_mask:]'"
      ]
     },
     "execution_count": 18,
     "metadata": {},
     "output_type": "execute_result"
    }
   ],
   "source": [
    "\"\"\"lst_arrys = [for i in no_mask:]\"\"\""
   ]
  },
  {
   "cell_type": "code",
   "execution_count": 19,
   "id": "df03ac00",
   "metadata": {},
   "outputs": [],
   "source": [
    "flatten_x = np.concatenate(mask)"
   ]
  },
  {
   "cell_type": "code",
   "execution_count": 20,
   "id": "41df607f",
   "metadata": {},
   "outputs": [],
   "source": [
    "img_no_mask = np.mean(np.array(no_mask), axis=0)\n",
    "img_mask = np.mean(np.array(mask), axis=0)"
   ]
  },
  {
   "cell_type": "code",
   "execution_count": null,
   "id": "8bcf9763",
   "metadata": {},
   "outputs": [],
   "source": []
  },
  {
   "cell_type": "code",
   "execution_count": 21,
   "id": "5a269efa",
   "metadata": {},
   "outputs": [
    {
     "data": {
      "text/plain": [
       "array([[154, 154, 155, ...,  43,  45,  43],\n",
       "       [127, 127, 127, ..., 163, 163, 163],\n",
       "       [129, 129, 128, ..., 154, 154, 156],\n",
       "       ...,\n",
       "       [157, 157, 157, ...,  54,  62,  65],\n",
       "       [142, 142, 142, ...,  42,  46,  41],\n",
       "       [128, 128, 128, ..., 155, 155, 156]], dtype=uint16)"
      ]
     },
     "execution_count": 21,
     "metadata": {},
     "output_type": "execute_result"
    }
   ],
   "source": [
    "np.array(no_mask)"
   ]
  },
  {
   "cell_type": "code",
   "execution_count": 22,
   "id": "286c6ee6",
   "metadata": {},
   "outputs": [],
   "source": [
    "import matplotlib.pyplot as plt"
   ]
  },
  {
   "cell_type": "code",
   "execution_count": 23,
   "id": "ace424d2",
   "metadata": {},
   "outputs": [
    {
     "data": {
      "text/plain": [
       "(50176,)"
      ]
     },
     "execution_count": 23,
     "metadata": {},
     "output_type": "execute_result"
    }
   ],
   "source": [
    "img_no_mask.shape"
   ]
  },
  {
   "cell_type": "code",
   "execution_count": 24,
   "id": "0ce85457",
   "metadata": {},
   "outputs": [
    {
     "data": {
      "text/plain": [
       "<matplotlib.image.AxesImage at 0x7f2b7722b220>"
      ]
     },
     "execution_count": 24,
     "metadata": {},
     "output_type": "execute_result"
    },
    {
     "data": {
      "image/png": "[encoded data removed]",
      "text/plain": [
       "<Figure size 432x288 with 1 Axes>"
      ]
     },
     "metadata": {
      "needs_background": "light"
     },
     "output_type": "display_data"
    }
   ],
   "source": [
    "plt.imshow(np.reshape(img_no_mask, (224, 224)), cmap=\"gray\")"
   ]
  },
  {
   "cell_type": "markdown",
   "id": "30e1ed28",
   "metadata": {},
   "source": [
    "plt.imshow(np.reshape(, (224, 224)), cmap=\"gray\")"
   ]
  },
  {
   "cell_type": "code",
   "execution_count": 25,
   "id": "746a6b81",
   "metadata": {},
   "outputs": [],
   "source": [
    "mean_mask = np.mean(np.array(mask), axis=0)\n",
    "mean_no_mask = np.mean(np.array(no_mask), axis=0)"
   ]
  },
  {
   "cell_type": "code",
   "execution_count": 26,
   "id": "f034bb8f",
   "metadata": {},
   "outputs": [
    {
     "data": {
      "text/plain": [
       "<matplotlib.image.AxesImage at 0x7f2b75157f10>"
      ]
     },
     "execution_count": 26,
     "metadata": {},
     "output_type": "execute_result"
    },
    {
     "data": {
      "image/png": "[encoded data removed]",
      "text/plain": [
       "<Figure size 432x288 with 1 Axes>"
      ]
     },
     "metadata": {
      "needs_background": "light"
     },
     "output_type": "display_data"
    }
   ],
   "source": [
    "plt.imshow(np.reshape(img_mask, (224, 224)), cmap=\"gray\")"
   ]
  },
  {
   "cell_type": "code",
   "execution_count": 27,
   "id": "95e89fb1",
   "metadata": {},
   "outputs": [],
   "source": [
    "array_1 = np.power((mean_mask - mask[1]), 2)\n",
    "array_2 = np.power((mean_no_mask - mask[1]), 2)\n"
   ]
  },
  {
   "cell_type": "code",
   "execution_count": 28,
   "id": "d825870c",
   "metadata": {},
   "outputs": [
    {
     "data": {
      "text/plain": [
       "76612732.43900104"
      ]
     },
     "execution_count": 28,
     "metadata": {},
     "output_type": "execute_result"
    }
   ],
   "source": [
    "array_2.sum()"
   ]
  },
  {
   "cell_type": "code",
   "execution_count": 29,
   "id": "dd47a3b5",
   "metadata": {},
   "outputs": [
    {
     "data": {
      "text/plain": [
       "79258004.90387096"
      ]
     },
     "execution_count": 29,
     "metadata": {},
     "output_type": "execute_result"
    }
   ],
   "source": [
    "array_1.sum()"
   ]
  },
  {
   "cell_type": "code",
   "execution_count": 30,
   "id": "ce130aba",
   "metadata": {},
   "outputs": [],
   "source": [
    "values = df['values'].to_list()"
   ]
  },
  {
   "cell_type": "code",
   "execution_count": 34,
   "id": "4cf6edc6",
   "metadata": {},
   "outputs": [],
   "source": [
    "lst_pred_mask = []\n",
    "all_pics = no_mask + mask\n",
    "\n",
    "for j in all_pics:\n",
    "    array_1 = np.power((mean_mask - j), 2)\n",
    "    array_2 = np.power((mean_no_mask - j), 2)\n",
    "    if array_1.sum() < array_2.sum():\n",
    "        lst_pred_mask.append(1)\n",
    "    else:\n",
    "        lst_pred_mask.append(0)"
   ]
  },
  {
   "cell_type": "code",
   "execution_count": 35,
   "id": "aa717a8b",
   "metadata": {},
   "outputs": [
    {
     "data": {
      "text/plain": [
       "620"
      ]
     },
     "execution_count": 35,
     "metadata": {},
     "output_type": "execute_result"
    }
   ],
   "source": [
    "len(lst_pred_mask)"
   ]
  },
  {
   "cell_type": "code",
   "execution_count": 36,
   "id": "ea5a66d6",
   "metadata": {},
   "outputs": [
    {
     "name": "stdout",
     "output_type": "stream",
     "text": [
      "              precision    recall  f1-score   support\n",
      "\n",
      "           0       0.72      0.73      0.72       310\n",
      "           1       0.73      0.71      0.72       310\n",
      "\n",
      "    accuracy                           0.72       620\n",
      "   macro avg       0.72      0.72      0.72       620\n",
      "weighted avg       0.72      0.72      0.72       620\n",
      "\n"
     ]
    }
   ],
   "source": [
    "from sklearn.metrics import classification_report\n",
    "\n",
    "print(classification_report(df['values'], lst_pred_mask))"
   ]
  },
  {
   "cell_type": "code",
   "execution_count": 37,
   "id": "4034a731",
   "metadata": {},
   "outputs": [
    {
     "data": {
      "text/plain": [
       "<AxesSubplot:>"
      ]
     },
     "execution_count": 37,
     "metadata": {},
     "output_type": "execute_result"
    },
    {
     "data": {
      "image/png": "[encoded data removed]",
      "text/plain": [
       "<Figure size 432x288 with 2 Axes>"
      ]
     },
     "metadata": {
      "needs_background": "light"
     },
     "output_type": "display_data"
    }
   ],
   "source": [
    "from sklearn.metrics import confusion_matrix, ConfusionMatrixDisplay\n",
    "import seaborn as sns\n",
    "\n",
    "cm = confusion_matrix(df['values'], lst_pred_mask)\n",
    "sns.heatmap(cm/np.sum(cm), annot=True, fmt='.2%')"
   ]
  },
  {
   "cell_type": "code",
   "execution_count": null,
   "id": "fc99d378",
   "metadata": {},
   "outputs": [],
   "source": [
    "\"\"\"df.to_csv('all_mask.csv', index=False,)\"\"\""
   ]
  },
  {
   "cell_type": "code",
   "execution_count": null,
   "id": "3ec0a983",
   "metadata": {},
   "outputs": [],
   "source": []
  }
 ],
 "metadata": {
  "kernelspec": {
   "display_name": "Python 3 (ipykernel)",
   "language": "python",
   "name": "python3"
  },
  "language_info": {
   "codemirror_mode": {
    "name": "ipython",
    "version": 3
   },
   "file_extension": ".py",
   "mimetype": "text/x-python",
   "name": "python",
   "nbconvert_exporter": "python",
   "pygments_lexer": "ipython3",
   "version": "3.9.5"
  }
 },
 "nbformat": 4,
 "nbformat_minor": 5
}
